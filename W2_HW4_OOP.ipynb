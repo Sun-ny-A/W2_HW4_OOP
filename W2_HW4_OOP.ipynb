{
 "cells": [
  {
   "cell_type": "markdown",
   "id": "45dacfe1",
   "metadata": {},
   "source": [
    "Assignment: Shopping Cart  Implementation\n",
    "\n",
    "Objective: Enhance your understanding of OOP by creating and integrating a shopping cart system using classes into a Jupyter Notebook.\n"
   ]
  },
  {
   "cell_type": "code",
   "execution_count": null,
   "id": "9f953417",
   "metadata": {},
   "outputs": [],
   "source": []
  },
  {
   "cell_type": "code",
   "execution_count": 3,
   "id": "58847959",
   "metadata": {},
   "outputs": [],
   "source": [
    "class ShoppingCart:\n",
    "    \n",
    "    \n",
    "    \n",
    "    def __init__(self,item, price):\n",
    "        self.item = item #initialize attributes\n",
    "        self.price = price\n",
    "    \n",
    "    def welcome(self):\n",
    "        intro = input('Welcome to our store! Would you like to start shopping? [y]es/[n]o?: ').lower()\n",
    "        return True if intro in 'yes' else False\n",
    "    \n",
    "    def display_cart(self):\n",
    "        display_cart= print(self.item + self.price)\n",
    "\n",
    "    def check_shopping(self):\n",
    "        user_shopping = input('Are you shopping? [y]es/[n]o?: ').lower()\n",
    "        return True if user_shopping in 'yes' else False\n",
    "\n",
    "    def user_option(self):\n",
    "        return input(\"Do you want to [a]dd, [d]elete or [q]uit?:\").lower()\n",
    "            if user_option == \"a\":\n",
    "                self.add_item()\n",
    "            elif user_option == \"d\":\n",
    "                self.del_item()\n",
    "            else:\n",
    "                self.quit_cart()\n",
    "\n",
    "    def add_item(self):\n",
    "        user_item = input(\"Please enter your food item: \")\n",
    "        user_price = input(\"Please enter your price: \")\n",
    "\n",
    "    def del_item(self):\n",
    "        del_item = input(\"What do you want to remove? \")\n",
    "        self.item.remove(del_item)\n",
    "        \n",
    "    def quit_cart(self):\n",
    "        goodbye = input(cart + \"\\nThank you for shopping with us!\")\n",
    "        print(goodbye)\n",
    "        active = False\n",
    "\n",
    "def driver(self):\n",
    "        self.welcome()\n",
    "        while self.check_shopping:\n",
    "            if not self.quit_cart()\n",
    "            while True:\n",
    "                self.add_item()\n",
    "                self.display_cart()\n",
    "                self.user_option()\n",
    "                \n",
    "cart = ShoppingCart([],[])"
   ]
  }
 ],
 "metadata": {
  "kernelspec": {
   "display_name": "Python 3 (ipykernel)",
   "language": "python",
   "name": "python3"
  },
  "language_info": {
   "codemirror_mode": {
    "name": "ipython",
    "version": 3
   },
   "file_extension": ".py",
   "mimetype": "text/x-python",
   "name": "python",
   "nbconvert_exporter": "python",
   "pygments_lexer": "ipython3",
   "version": "3.9.12"
  },
  "toc": {
   "base_numbering": 1,
   "nav_menu": {},
   "number_sections": false,
   "sideBar": true,
   "skip_h1_title": false,
   "title_cell": "Table of Contents",
   "title_sidebar": "Contents",
   "toc_cell": false,
   "toc_position": {},
   "toc_section_display": true,
   "toc_window_display": false
  }
 },
 "nbformat": 4,
 "nbformat_minor": 5
}
